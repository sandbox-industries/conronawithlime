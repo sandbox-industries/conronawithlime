{
 "cells": [
  {
   "cell_type": "markdown",
   "metadata": {},
   "source": [
    "Projecteuler.net coding challenge #5:\n",
    "\n",
    "2520 is the smallest number that can be divided by each of the numbers from 1 to 10 without any remainder.\n",
    "\n",
    "What is the smallest positive number that is evenly divisible by all of the numbers from 1 to 20?"
   ]
  },
  {
   "cell_type": "markdown",
   "metadata": {},
   "source": [
    "This question can be answered with prime factorization. The formula boils down to mulitplying together the highest power of each prime that will fit within the given range. So for 1-10, the answer is 2x2x2x3x3x5x7 = 2520. The same will work for 1-20"
   ]
  },
  {
   "cell_type": "code",
   "execution_count": 110,
   "metadata": {},
   "outputs": [
    {
     "name": "stdout",
     "output_type": "stream",
     "text": [
      "0.0\n",
      "232792560\n",
      "[2, 3, 5, 7, 11, 13, 17, 19]\n"
     ]
    }
   ],
   "source": [
    "import time \n",
    " # Check how long it takes to run.\n",
    "start = time.time()\n",
    "\n",
    "# First find all of the prime numbers in the given range 1 - max_val\n",
    "max_val = 20\n",
    "primes = []\n",
    "for num in range(2, max_val+1):\n",
    "    for i in range(2, num):\n",
    "        if num % i == 0:\n",
    "            break\n",
    "    else:\n",
    "        primes.append(num)\n",
    "        \n",
    "solution = 1 # initialize solution\n",
    "for prime in primes:\n",
    "    multiplier = prime \n",
    "    while prime * multiplier <= max_val: # keep multiplying our prime as long as it's less than max_val\n",
    "        prime *= multiplier\n",
    "    solution *= prime # multiply solution by multiples of prime\n",
    "stop = time.time()\n",
    "\n",
    "print(stop-start)\n",
    "print(solution)\n",
    "print(primes)"
   ]
  }
 ],
 "metadata": {
  "kernelspec": {
   "display_name": "Python 3",
   "language": "python",
   "name": "python3"
  },
  "language_info": {
   "codemirror_mode": {
    "name": "ipython",
    "version": 3
   },
   "file_extension": ".py",
   "mimetype": "text/x-python",
   "name": "python",
   "nbconvert_exporter": "python",
   "pygments_lexer": "ipython3",
   "version": "3.7.7"
  }
 },
 "nbformat": 4,
 "nbformat_minor": 4
}
