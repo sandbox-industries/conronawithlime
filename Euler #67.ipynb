{
 "cells": [
  {
   "cell_type": "code",
   "execution_count": 12,
   "metadata": {},
   "outputs": [
    {
     "name": "stdout",
     "output_type": "stream",
     "text": [
      "Answer: 7273\n",
      "Iterations: 99\n",
      "Process Time: 0.019361400000001083\n"
     ]
    }
   ],
   "source": [
    "from timeit import default_timer\n",
    "\n",
    "start = default_timer()\n",
    "\n",
    "with open(r'C:\\Users\\adria\\conronawithlime\\p067_triangle.txt') as t:\n",
    "    numbers = [list(map(int, item.strip().split(' '))) for item in t.readlines()]\n",
    "    \n",
    "counter = 0\n",
    "for i in range(len(numbers)-2,-1,-1):\n",
    "    for j in range(len(numbers[i])):\n",
    "        numbers[i][j] = numbers[i][j] + max(numbers[i+1][j], numbers[i+1][j+1])\n",
    "    counter += 1\n",
    "    \n",
    "print (f'Answer: {numbers[0][0]}')\n",
    "print(f'Iterations: {counter}')\n",
    "\n",
    "end = default_timer()\n",
    "\n",
    "print('Process Time:', end-start)"
   ]
  }
 ],
 "metadata": {
  "kernelspec": {
   "display_name": "Python 3",
   "language": "python",
   "name": "python3"
  },
  "language_info": {
   "codemirror_mode": {
    "name": "ipython",
    "version": 3
   },
   "file_extension": ".py",
   "mimetype": "text/x-python",
   "name": "python",
   "nbconvert_exporter": "python",
   "pygments_lexer": "ipython3",
   "version": "3.7.7"
  }
 },
 "nbformat": 4,
 "nbformat_minor": 4
}
