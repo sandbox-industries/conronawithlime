{
 "cells": [
  {
   "cell_type": "markdown",
   "metadata": {},
   "source": [
    "Each character on a computer is assigned a unique code and the preferred standard is ASCII (American Standard Code for Information Interchange). For example, uppercase A = 65, asterisk (*) = 42, and lowercase k = 107.\n",
    "\n",
    "A modern encryption method is to take a text file, convert the bytes to ASCII, then XOR each byte with a given value, taken from a secret key. The advantage with the XOR function is that using the same encryption key on the cipher text, restores the plain text; for example, 65 XOR 42 = 107, then 107 XOR 42 = 65.\n",
    "\n",
    "For unbreakable encryption, the key is the same length as the plain text message, and the key is made up of random bytes. The user would keep the encrypted message and the encryption key in different locations, and without both \"halves\", it is impossible to decrypt the message.\n",
    "\n",
    "Unfortunately, this method is impractical for most users, so the modified method is to use a password as a key. If the password is shorter than the message, which is likely, the key is repeated cyclically throughout the message. The balance for this method is using a sufficiently long password key for security, but short enough to be memorable.\n",
    "\n",
    "Your task has been made easy, as the encryption key consists of three lower case characters. Using p059_cipher.txt (right click and 'Save Link/Target As...'), a file containing the encrypted ASCII codes, and the knowledge that the plain text must contain common English words, decrypt the message and find the sum of the ASCII values in the original text."
   ]
  },
  {
   "cell_type": "code",
   "execution_count": 1,
   "metadata": {},
   "outputs": [],
   "source": [
    "import string\n",
    "from timeit import default_timer"
   ]
  },
  {
   "cell_type": "code",
   "execution_count": 2,
   "metadata": {
    "scrolled": true
   },
   "outputs": [
    {
     "data": {
      "text/plain": [
       "[36, 22, 80, 0, 0, 4, 23, 25, 19, 17]"
      ]
     },
     "execution_count": 2,
     "metadata": {},
     "output_type": "execute_result"
    }
   ],
   "source": [
    "with open('p059_cipher.txt') as c:\n",
    "    cipher = [int(num) for num in c.read().split(',')]\n",
    "cipher[0:10]"
   ]
  },
  {
   "cell_type": "code",
   "execution_count": 3,
   "metadata": {
    "scrolled": true
   },
   "outputs": [
    {
     "name": "stdout",
     "output_type": "stream",
     "text": [
      "Key: exp \n",
      "\n",
      "Text: An extract taken from the introduction of one of Euler's most celebrated papers, \"De summis serierum reciprocarum\" [On the sums of series of reciprocals]: I have recently found, quite unexpectedly, an elegant expression for the entire sum of this series 1 + 1/4 + 1/9 + 1/16 + etc., which depends on the quadrature of the circle, so that if the true sum of this series is obtained, from it at once the quadrature of the circle follows. Namely, I have found that the sum of this series is a sixth part of the square of the perimeter of the circle whose diameter is 1; or by putting the sum of this series equal to s, it has the ratio sqrt(6) multiplied by s to 1 of the perimeter to the diameter. I will soon show that the sum of this series to be approximately 1.644934066842264364; and from multiplying this number by six, and then taking the square root, the number 3.141592653589793238 is indeed produced, which expresses the perimeter of a circle whose diameter is 1. Following again the same steps by which I had arrived at this sum, I have discovered that the sum of the series 1 + 1/16 + 1/81 + 1/256 + 1/625 + etc. also depends on the quadrature of the circle. Namely, the sum of this multiplied by 90 gives the biquadrate (fourth power) of the circumference of the perimeter of a circle whose diameter is 1. And by similar reasoning I have likewise been able to determine the sums of the subsequent series in which the exponents are even numbers. \n",
      "\n",
      "Found in: 0.19083050000000013 seconds\n",
      "\n",
      "Final Anwswer: 129448\n"
     ]
    }
   ],
   "source": [
    "def decrypt(cipher: list):\n",
    "    \"\"\"\n",
    "    Description: This function should decrypt English text that has been XOR'd with a key containing \n",
    "        3 lowercase letters. While checking each key, the function also ensures that the decrypted \n",
    "        characters are valid letters, numbers or punctuation. It finally looks to see whether ' the ' \n",
    "        appears somewhere in the decrypted text. If so, it returns that as the (hopefully) correct \n",
    "        decryption. It returns -1 if no valid text is found.\n",
    "    Parameter: cipher, a list containing binary strings.\n",
    "    \"\"\"\n",
    "    \n",
    "    # 97-123 is the ordinal range of lowercase letters. Nested 3 times to get all keys aaa - zzz\n",
    "    for key1 in range(97, 123):\n",
    "        for key2 in range(97, 123):\n",
    "            for key3 in range(97, 123):\n",
    "\n",
    "                decrypted = []\n",
    "                for i in range(0, len(cipher), 3):\n",
    "                    decrypted.append(chr(cipher[i] ^ key1))\n",
    "                    decrypted.append(chr(cipher[i+1] ^ key2))\n",
    "                    decrypted.append(chr(cipher[i+2] ^ key3))\n",
    "                    \n",
    "                    # Characters outside this range are not English. Stop decrypting, move to next key.\n",
    "                    if not all(letter in string.printable for letter in decrypted[i:i+3]):\n",
    "                        break\n",
    "                \n",
    "                # 'the' is the most common word in the English language. I'm assuming here that \n",
    "                # the probability of a long-ish bit of text not containing it is low, and that it's \n",
    "                # unlikely to appear in text decrypted with the wrong key... ¯\\_(ツ)_/¯\n",
    "                decrypt_string = ''.join(decrypted)\n",
    "                if ' the ' in decrypt_string.lower():\n",
    "\n",
    "                    return chr(key1)+chr(key2)+chr(key3), decrypt_string\n",
    "\n",
    "    return -1\n",
    "    \n",
    "    \n",
    "start = default_timer()\n",
    "key, decrypted = decrypt(cipher)\n",
    "answer = sum([ord(letter) for letter in decrypted])\n",
    "stop = default_timer()\n",
    "\n",
    "print('Key:', key, '\\n')\n",
    "print('Text:', decrypted, '\\n')\n",
    "print('Found in:', stop-start, 'seconds\\n')\n",
    "print('Final Anwswer:', answer)"
   ]
  }
 ],
 "metadata": {
  "kernelspec": {
   "display_name": "Python 3",
   "language": "python",
   "name": "python3"
  },
  "language_info": {
   "codemirror_mode": {
    "name": "ipython",
    "version": 3
   },
   "file_extension": ".py",
   "mimetype": "text/x-python",
   "name": "python",
   "nbconvert_exporter": "python",
   "pygments_lexer": "ipython3",
   "version": "3.7.7"
  }
 },
 "nbformat": 4,
 "nbformat_minor": 4
}
