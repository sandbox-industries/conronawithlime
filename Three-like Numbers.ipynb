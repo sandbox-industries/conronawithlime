{
 "cells": [
  {
   "cell_type": "markdown",
   "metadata": {},
   "source": [
    "<p style ='font-size:200%; text-align:center; font-style:bold; padding:10px'> \n",
    "   3-Like Numbers! </p><br>\n",
    "\n",
    "For a positive integer n, define f(n) to be the number of non-empty substrings of n that are divisible by 3. For example, the string \"2573\" has 10 non-empty substrings, three of which represent numbers that are divisible by 3, namely 57, 573 and 3. So f(2573)=3.\n",
    "\n",
    "If f(n) is divisible by 3 then we say that n is 3-like.\n",
    "\n",
    "Define F(d) to be how many d digit numbers are 3-like. For example, F(2)=30 and F(6)=290898.\n",
    "\n",
    "Find F(10^5). Give your answer modulo 1000000007.\n",
    "   \n",
    "   \n",
    "   "
   ]
  },
  {
   "cell_type": "code",
   "execution_count": 42,
   "metadata": {},
   "outputs": [
    {
     "data": {
      "text/plain": [
       "290898"
      ]
     },
     "execution_count": 42,
     "metadata": {},
     "output_type": "execute_result"
    }
   ],
   "source": [
    "# Works, but TOO SLOW to answer F(10^5)\n",
    "\n",
    "def find_three_like(digits):\n",
    "        \n",
    "    three_like = 0\n",
    "    nums_start = int('1' + '0'*(digits-1))\n",
    "    nums_stop = int('9' * digits)\n",
    "    \n",
    "    for num in range(nums_start, nums_stop+1):\n",
    "        num_str = str(num)\n",
    "        substrings = [num_str[i: j] for i in range(len(num_str)) \n",
    "              for j in range(i + 1, len(num_str) + 1) if int(num_str[i:j]) % 3 == 0]\n",
    "        if len(substrings) % 3 == 0:\n",
    "            three_like += 1\n",
    "            \n",
    "    return three_like\n",
    "    \n",
    "find_three_like(6)"
   ]
  },
  {
   "cell_type": "code",
   "execution_count": null,
   "metadata": {},
   "outputs": [],
   "source": [
    "# Hashing?\n",
    "\n"
   ]
  }
 ],
 "metadata": {
  "kernelspec": {
   "display_name": "Python 3",
   "language": "python",
   "name": "python3"
  },
  "language_info": {
   "codemirror_mode": {
    "name": "ipython",
    "version": 3
   },
   "file_extension": ".py",
   "mimetype": "text/x-python",
   "name": "python",
   "nbconvert_exporter": "python",
   "pygments_lexer": "ipython3",
   "version": "3.7.6"
  }
 },
 "nbformat": 4,
 "nbformat_minor": 4
}
