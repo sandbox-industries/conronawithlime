{
 "cells": [
  {
   "cell_type": "markdown",
   "metadata": {},
   "source": [
    "## Euler Problem 9:\n",
    "A Pythagorean triplet is a set of three natural numbers, a < b < c, for which,\n",
    "\n",
    "a<sup>2</sup> + b<sup>2</sup> = c2\n",
    "For example, 3<sup>2</sup> + 4<sup>2</sup> = 9 + 16 = 25 = 52.\n",
    "\n",
    "There exists exactly one Pythagorean triplet for which a + b + c = 1000.\n",
    "Find the product abc."
   ]
  },
  {
   "cell_type": "code",
   "execution_count": 4,
   "metadata": {},
   "outputs": [
    {
     "name": "stdout",
     "output_type": "stream",
     "text": [
      "The triplets are: 200, 375, 425\n",
      "Their product is: 31875000\n",
      "Process time: 0.07274410000002263\n"
     ]
    }
   ],
   "source": [
    "from timeit import default_timer\n",
    "import numpy as np\n",
    "\n",
    "# a < b < c\n",
    "# a^2 + b^2 = c^2\n",
    "# a + b + c = 1000\n",
    "\n",
    "def find_triplets(desired_sum):\n",
    "    \n",
    "    for b in range(1, desired_sum): \n",
    "        for a in range(1, b):  # a must be less than than b, so restrict a up to the range of b.  \n",
    "            c = (a*a + b*b)**(1/2)  # c = the sqrt of the sum of a^2 + b^2.\n",
    "            \n",
    "            if a+b+c == desired_sum:\n",
    "                return (a, b, int(c))  # casting c to int else returns as a float. The function will \n",
    "                                       # stop iterating as soon as it finds the correct triplet.\n",
    "    print(f'No triplets found for {desired_sum}')  # This will only execute if the for loops\n",
    "                                                       # finished with no triplets adding up to the \n",
    "    return -1                                          # desired_sum \n",
    "\n",
    "\n",
    "start = default_timer()\n",
    "answer = find_triplets(1000)\n",
    "stop = default_timer()\n",
    "\n",
    "if answer != -1:\n",
    "    print(f'The triplets are: {\", \".join(str(a) for a in answer)}')\n",
    "    print(f'Their product is: {np.prod(answer)}')\n",
    "    print('Process time:', stop-start)"
   ]
  }
 ],
 "metadata": {
  "kernelspec": {
   "display_name": "Python 3",
   "language": "python",
   "name": "python3"
  },
  "language_info": {
   "codemirror_mode": {
    "name": "ipython",
    "version": 3
   },
   "file_extension": ".py",
   "mimetype": "text/x-python",
   "name": "python",
   "nbconvert_exporter": "python",
   "pygments_lexer": "ipython3",
   "version": "3.7.7"
  }
 },
 "nbformat": 4,
 "nbformat_minor": 4
}
