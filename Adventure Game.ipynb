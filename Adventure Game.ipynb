{
 "cells": [
  {
   "cell_type": "code",
   "execution_count": 27,
   "metadata": {},
   "outputs": [
    {
     "name": "stdout",
     "output_type": "stream",
     "text": [
      "You are standing at the end of a road before a small brick building\n",
      "Where would you like to go?\n",
      "Available options are W, E, N, S, Q valley\n",
      "You are in a valley beside a stream\n",
      "Where would you like to go?\n",
      "Available options are N, W, Q forest\n",
      "You can't go that way.\n",
      "\n",
      "You are in a valley beside a stream\n",
      "Where would you like to go?\n",
      "Available options are N, W, Q quit\n",
      "You are sitting in front of a computer learning Python.\n"
     ]
    }
   ],
   "source": [
    "locations = {0: 'You are sitting in front of a computer learning Python.',\n",
    "             1: 'You are standing at the end of a road before a small brick building',\n",
    "             2: 'You are at the top of a hill',\n",
    "             3: 'You are inside a building; a well house for a small stream',\n",
    "             4: 'You are in a valley beside a stream',\n",
    "             5: 'You are in a forest'}\n",
    "\n",
    "exits = {0: {'Q': 0},\n",
    "         1: {'W': 2, 'E': 3, 'N': 5, 'S': 4, 'Q': 0},\n",
    "         2: {'N': 5, 'Q': 0},\n",
    "         3: {'W': 1, 'Q': 0},\n",
    "         4: {'N': 1, 'W': 2, 'Q': 0},\n",
    "         5: {'W': 2, 'S': 1, 'Q': 0}} \n",
    "\n",
    "named_exits = {1: {'2': 2, '3': 3, '4': 4, '5':5},\n",
    "               2: {'5': 5},\n",
    "               3: {'1': 1},\n",
    "               4: {'1': 1, '2': 2},\n",
    "               5: {'2': 2, '1':1}}\n",
    "\n",
    "vocabulary = {'QUIT': 'Q',\n",
    "              'NORTH': 'N',\n",
    "              'SOUTH': 'S',\n",
    "              'WEST': 'W',\n",
    "              'EAST': 'E',\n",
    "              'ROAD': '1',\n",
    "              'HILL': '2',\n",
    "              'BUILDING': '3',\n",
    "              'VALLEY': '4',\n",
    "              'FOREST': '5'}\n",
    "\n",
    "loc = 1\n",
    "while True:\n",
    "    print(locations[loc])\n",
    "    avail_exits = \", \".join(exits[loc].keys())\n",
    "    \n",
    "    if loc == 0:\n",
    "        break\n",
    "    else:\n",
    "        all_exits = exits[loc].copy()\n",
    "        all_exits.update(named_exits[loc])\n",
    "    \n",
    "    print('Where would you like to go?')\n",
    "    direction = input('Available options are ' + avail_exits + ' ').upper()\n",
    "    if len(direction) > 1:\n",
    "        words = direction.split()\n",
    "        for word in words:\n",
    "            if word in vocabulary:\n",
    "                direction = vocabulary[word]\n",
    "                break\n",
    "    if direction in all_exits:\n",
    "        loc = all_exits[direction]\n",
    "    else:\n",
    "        print(\"You can't go that way.\")\n",
    "        print()"
   ]
  },
  {
   "cell_type": "code",
   "execution_count": 28,
   "metadata": {},
   "outputs": [
    {
     "data": {
      "text/plain": [
       "{'N': 1, 'W': 2, 'Q': 0, '1': 1, '2': 2}"
      ]
     },
     "execution_count": 28,
     "metadata": {},
     "output_type": "execute_result"
    }
   ],
   "source": [
    "all_exits"
   ]
  }
 ],
 "metadata": {
  "kernelspec": {
   "display_name": "Python 3",
   "language": "python",
   "name": "python3"
  },
  "language_info": {
   "codemirror_mode": {
    "name": "ipython",
    "version": 3
   },
   "file_extension": ".py",
   "mimetype": "text/x-python",
   "name": "python",
   "nbconvert_exporter": "python",
   "pygments_lexer": "ipython3",
   "version": "3.7.6"
  }
 },
 "nbformat": 4,
 "nbformat_minor": 4
}
