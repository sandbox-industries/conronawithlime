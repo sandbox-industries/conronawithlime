{
 "cells": [
  {
   "cell_type": "code",
   "execution_count": 11,
   "metadata": {},
   "outputs": [
    {
     "name": "stdout",
     "output_type": "stream",
     "text": [
      "You are standing at the end of a road before a small brick building\n",
      "Where would you like to go?\n",
      "Available options are W, E, N, S, Q N\n",
      "You are in the forest\n",
      "Where would you like to go?\n",
      "Available options are W, S, Q W\n",
      "You are at the top of a hill\n",
      "Where would you like to go?\n",
      "Available options are N, Q valley\n",
      "You can't go that way.\n",
      "\n",
      "You are at the top of a hill\n",
      "Where would you like to go?\n",
      "Available options are N, Q Q\n",
      "You are sitting in front of a computer learning python\n"
     ]
    }
   ],
   "source": [
    "locations = {0: {'desc': 'You are sitting in front of a computer learning python',\n",
    "             'exits': {},\n",
    "             'named_exits': {}},\n",
    "             1: {'desc': 'You are standing at the end of a road before a small brick building',\n",
    "                 'exits': {'W': 2, 'E': 3, 'N': 5, 'S': 4, 'Q': 0},\n",
    "                 'named_exits': {'2': 2, '3': 3, '5': 5, '4': 4}},\n",
    "             2: {'desc': 'You are at the top of a hill',\n",
    "                 'exits': {'N': 5, 'Q': 0},\n",
    "                 'named_exits': {'5': 5}},\n",
    "             3: {'desc': 'You are inside a building, a well house for a small stream',\n",
    "                 'exits': {'W': 1, 'Q': 0},\n",
    "                 'named_exits': {'1': 1}},\n",
    "             4: {'desc': 'You are in a valley by a stream',\n",
    "                 'exits': {'N': 1, 'W': 2, 'Q': 0},\n",
    "                 'named_exits': {'1': 1, '2': 2}},\n",
    "             5: {'desc': 'You are in the forest',\n",
    "                 'exits': {'W': 2, 'S': 1, 'Q': 0},\n",
    "                 'named_exits': {'2': 2, '1': 1}}\n",
    "            }\n",
    "                 \n",
    "vocabulary = {'QUIT': 'Q',\n",
    "              'NORTH': 'N',\n",
    "              'SOUTH': 'S',\n",
    "              'WEST': 'W',\n",
    "              'EAST': 'E',\n",
    "              'ROAD': '1',\n",
    "              'HILL': '2',\n",
    "              'BUILDING': '3',\n",
    "              'VALLEY': '4',\n",
    "              'FOREST': '5'}\n",
    "\n",
    "loc = 1\n",
    "while True:\n",
    "    print(locations[loc]['desc'])\n",
    "    avail_exits = \", \".join(locations[loc]['exits'].keys())\n",
    "    \n",
    "    if loc == 0:\n",
    "        break\n",
    "    else:\n",
    "        all_exits = locations[loc]['exits'].copy()\n",
    "        all_exits.update(locations[loc]['named_exits'])\n",
    "    \n",
    "    print('Where would you like to go?')\n",
    "    direction = input('Available options are ' + avail_exits + ' ').upper()\n",
    "    if len(direction) > 1:\n",
    "        words = direction.split()\n",
    "        for word in words:\n",
    "            if word in vocabulary:\n",
    "                direction = vocabulary[word]\n",
    "                break\n",
    "    if direction in all_exits:\n",
    "        loc = all_exits[direction]\n",
    "    else:\n",
    "        print(\"You can't go that way.\")\n",
    "        print()"
   ]
  }
 ],
 "metadata": {
  "kernelspec": {
   "display_name": "Python 3",
   "language": "python",
   "name": "python3"
  },
  "language_info": {
   "codemirror_mode": {
    "name": "ipython",
    "version": 3
   },
   "file_extension": ".py",
   "mimetype": "text/x-python",
   "name": "python",
   "nbconvert_exporter": "python",
   "pygments_lexer": "ipython3",
   "version": "3.7.7"
  }
 },
 "nbformat": 4,
 "nbformat_minor": 4
}
