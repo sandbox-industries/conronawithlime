{
 "cells": [
  {
   "cell_type": "code",
   "execution_count": 99,
   "metadata": {},
   "outputs": [
    {
     "data": {
      "text/plain": [
       "[[0, 0, 3, 0, 2, 0, 6, 0, 0],\n",
       " [9, 0, 0, 3, 0, 5, 0, 0, 1],\n",
       " [0, 0, 1, 8, 0, 6, 4, 0, 0],\n",
       " [0, 0, 8, 1, 0, 2, 9, 0, 0],\n",
       " [7, 0, 0, 0, 0, 0, 0, 0, 8],\n",
       " [0, 0, 6, 7, 0, 8, 2, 0, 0],\n",
       " [0, 0, 2, 6, 0, 9, 5, 0, 0],\n",
       " [8, 0, 0, 2, 0, 3, 0, 0, 9],\n",
       " [0, 0, 5, 0, 1, 0, 3, 0, 0]]"
      ]
     },
     "execution_count": 99,
     "metadata": {},
     "output_type": "execute_result"
    }
   ],
   "source": [
    "def read_sudoku(grid_number):\n",
    "    if grid_number < 10:\n",
    "        grid_number = '0'+str(grid_number)\n",
    "    else:\n",
    "        grid_number = str(grid_number)\n",
    "    with open('p096_sudoku.txt') as s:\n",
    "        sudokus = s.readlines()\n",
    "        sudokus = [line.strip('\\n') for line in sudokus]\n",
    "        idx = sudokus.index('Grid '+grid_number)+1\n",
    "        sudoku = [list(map(int, (num))) for num in sudokus[idx:idx+9]]\n",
    "    return sudoku\n",
    "\n",
    "sudoku = read_sudoku(1)\n",
    "sudoku"
   ]
  },
  {
   "cell_type": "code",
   "execution_count": 100,
   "metadata": {},
   "outputs": [],
   "source": [
    "def get_possible(y, x):\n",
    "    global sudoku\n",
    "    possible = {1,2,3,4,5,6,7,8,9}\n",
    "    column = sudoku[y]\n",
    "    row = [position[x] for position in sudoku]\n",
    "    grid_y, grid_x = 3*(y//3), 3*(x//3)\n",
    "    grid = set()\n",
    "    for i in range(3):\n",
    "        for j in range(3):\n",
    "            grid.add(sudoku[grid_y+i][grid_x+j])\n",
    "\n",
    "    return possible - set(column) - set(row) - set(grid)"
   ]
  },
  {
   "cell_type": "code",
   "execution_count": 98,
   "metadata": {},
   "outputs": [
    {
     "name": "stdout",
     "output_type": "stream",
     "text": [
      "[[0, 0, 3, 0, 2, 0, 6, 0, 0], [9, 0, 0, 3, 0, 5, 0, 0, 1], [0, 0, 1, 8, 0, 6, 4, 0, 0], [0, 0, 8, 1, 0, 2, 9, 0, 0], [7, 0, 0, 0, 0, 0, 0, 0, 8], [0, 0, 6, 7, 0, 8, 2, 0, 0], [0, 0, 2, 6, 0, 9, 5, 0, 0], [8, 0, 0, 2, 0, 3, 0, 0, 9], [0, 0, 5, 0, 1, 0, 3, 0, 0]]\n"
     ]
    }
   ],
   "source": [
    "def solve():\n",
    "    global sudoku\n",
    "    for y in range(9):\n",
    "        for x in range(9):\n",
    "            if sudoku[y][x] == 0:\n",
    "                p = get_possible(y, x)\n",
    "                for num in p:\n",
    "                    sudoku[y][x] = num\n",
    "                    solve()\n",
    "                    sudoku[y][x] = 0\n",
    "                return\n",
    "                \n",
    "    return\n",
    "solve()\n",
    "print(sudoku)"
   ]
  }
 ],
 "metadata": {
  "kernelspec": {
   "display_name": "Python 3",
   "language": "python",
   "name": "python3"
  },
  "language_info": {
   "codemirror_mode": {
    "name": "ipython",
    "version": 3
   },
   "file_extension": ".py",
   "mimetype": "text/x-python",
   "name": "python",
   "nbconvert_exporter": "python",
   "pygments_lexer": "ipython3",
   "version": "3.7.7"
  }
 },
 "nbformat": 4,
 "nbformat_minor": 4
}
